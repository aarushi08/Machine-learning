{
 "cells": [
  {
   "cell_type": "code",
   "execution_count": 130,
   "metadata": {
    "collapsed": true
   },
   "outputs": [],
   "source": [
    "def train(x_train,y_train):\n",
    "    #do nothing\n",
    "    return"
   ]
  },
  {
   "cell_type": "code",
   "execution_count": 131,
   "metadata": {
    "collapsed": true
   },
   "outputs": [],
   "source": [
    "def predict(x_train,y_train,x_test,k):\n",
    "    \n",
    "    distances=[]\n",
    "    target=[]\n",
    "   \n",
    "    for i in range(len(x_train)):\n",
    "        #calculate eucledian distance\n",
    "        distance=np.sqrt(np.sum(np.square(x_test-x_train[i])))\n",
    "        \n",
    "        #Append distance along with index to distances list\n",
    "        distances.append([distance,i])\n",
    "    \n",
    "    #sort the distances list\n",
    "    distances=sorted(distances)\n",
    "    \n",
    "    \n",
    "    #calculate target for k nearest neighbors\n",
    "    for i in range(0,k):\n",
    "        index = distances[i][1]        \n",
    "        target.append(y_train[index])\n",
    "    \n",
    "       \n",
    "    #return most common value\n",
    "    return Counter(target).most_common(1)[0][0] "
   ]
  },
  {
   "cell_type": "code",
   "execution_count": 132,
   "metadata": {
    "collapsed": true
   },
   "outputs": [],
   "source": [
    "def KNN(x_train,y_train,x_test,predictions,k):\n",
    "    \n",
    "    #train input data\n",
    "    train(x_train,y_train)\n",
    "    \n",
    "    #predict value for each x_test\n",
    "    for i in range(len(x_test)):\n",
    "        predictions.append(predict(x_train,y_train,x_test[i],k))"
   ]
  },
  {
   "cell_type": "code",
   "execution_count": 167,
   "metadata": {},
   "outputs": [
    {
     "name": "stdout",
     "output_type": "stream",
     "text": [
      "Shape of x: (120, 4)  Shape of y: (120,)\n"
     ]
    }
   ],
   "source": [
    "from sklearn.datasets import load_iris\n",
    "from sklearn.model_selection import train_test_split\n",
    "from sklearn.metrics import accuracy_score\n",
    "\n",
    "iris=load_iris()\n",
    "x=iris.data\n",
    "y=iris.target\n",
    "x_train,x_test,y_train,y_test=train_test_split(x,y,test_size=0.2)\n",
    "print('Shape of x:',x_train.shape,' Shape of y:', y_train.shape)"
   ]
  },
  {
   "cell_type": "code",
   "execution_count": 169,
   "metadata": {
    "collapsed": true
   },
   "outputs": [],
   "source": [
    "predictions=[]\n",
    "KNN(x_train,y_train,x_test,predictions,7)"
   ]
  },
  {
   "cell_type": "code",
   "execution_count": 170,
   "metadata": {},
   "outputs": [
    {
     "name": "stdout",
     "output_type": "stream",
     "text": [
      "0.9333333333333333\n"
     ]
    }
   ],
   "source": [
    "print(accuracy_score(predictions,y_test))"
   ]
  },
  {
   "cell_type": "code",
   "execution_count": 208,
   "metadata": {
    "collapsed": true
   },
   "outputs": [],
   "source": [
    "from matplotlib import pyplot as plt\n",
    "from sklearn.metrics import mean_squared_error\n",
    "from math import sqrt"
   ]
  },
  {
   "cell_type": "code",
   "execution_count": 212,
   "metadata": {},
   "outputs": [
    {
     "data": {
      "image/png": "[encoded data removed]",
      "text/plain": [
       "<Figure size 432x288 with 1 Axes>"
      ]
     },
     "metadata": {},
     "output_type": "display_data"
    }
   ],
   "source": [
    "#Cross-validating the algorithm\n",
    "rms=[]\n",
    "for k in range(1,50,2):\n",
    "    x_train,x_test,y_train,y_test=train_test_split(x,y,test_size=0.2)\n",
    "    y_pred=[]\n",
    "    KNN(x_train,y_train,x_test,y_pred,k)\n",
    "    prediction=accuracy_score(y_pred,y_test)\n",
    "    rms.append(sqrt(mean_squared_error(y_test, y_pred)))\n",
    "    \n",
    "k=np.arange(1,50,2)\n",
    "plt.plot(k,rms)\n",
    "plt.show()"
   ]
  },
  {
   "cell_type": "code",
   "execution_count": 210,
   "metadata": {
    "collapsed": true
   },
   "outputs": [],
   "source": []
  },
  {
   "cell_type": "code",
   "execution_count": null,
   "metadata": {
    "collapsed": true
   },
   "outputs": [],
   "source": []
  }
 ],
 "metadata": {
  "kernelspec": {
   "display_name": "Python 3",
   "language": "python",
   "name": "python3"
  },
  "language_info": {
   "codemirror_mode": {
    "name": "ipython",
    "version": 3
   },
   "file_extension": ".py",
   "mimetype": "text/x-python",
   "name": "python",
   "nbconvert_exporter": "python",
   "pygments_lexer": "ipython3",
   "version": "3.6.3"
  }
 },
 "nbformat": 4,
 "nbformat_minor": 2
}
